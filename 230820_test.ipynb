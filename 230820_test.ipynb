{
  "nbformat": 4,
  "nbformat_minor": 0,
  "metadata": {
    "colab": {
      "provenance": []
    },
    "kernelspec": {
      "name": "python3",
      "display_name": "Python 3"
    },
    "language_info": {
      "name": "python"
    }
  },
  "cells": [
    {
      "cell_type": "code",
      "execution_count": 1,
      "metadata": {
        "colab": {
          "base_uri": "https://localhost:8080/"
        },
        "id": "cF47rGYkZ-Lo",
        "outputId": "c4bf4b7d-d3bc-4d7f-9a71-7e267cf6f5af"
      },
      "outputs": [
        {
          "output_type": "stream",
          "name": "stdout",
          "text": [
            "Collecting pytamaro\n",
            "  Downloading pytamaro-0.5.2-py3-none-any.whl (33 kB)\n",
            "Requirement already satisfied: Pillow<10.0.0,>=9.0.0 in /usr/local/lib/python3.10/dist-packages (from pytamaro) (9.4.0)\n",
            "Collecting skia-python<88.0,>=87.4 (from pytamaro)\n",
            "  Downloading skia_python-87.5-cp310-cp310-manylinux_2_17_x86_64.manylinux2014_x86_64.whl (10.8 MB)\n",
            "\u001b[2K     \u001b[90m━━━━━━━━━━━━━━━━━━━━━━━━━━━━━━━━━━━━━━━━\u001b[0m \u001b[32m10.8/10.8 MB\u001b[0m \u001b[31m9.0 MB/s\u001b[0m eta \u001b[36m0:00:00\u001b[0m\n",
            "\u001b[?25hRequirement already satisfied: numpy in /usr/local/lib/python3.10/dist-packages (from skia-python<88.0,>=87.4->pytamaro) (1.23.5)\n",
            "\u001b[33mWARNING: Retrying (Retry(total=4, connect=None, read=None, redirect=None, status=None)) after connection broken by 'ProtocolError('Connection aborted.', RemoteDisconnected('Remote end closed connection without response'))': /simple/pybind11/\u001b[0m\u001b[33m\n",
            "\u001b[0mCollecting pybind11>=2.6 (from skia-python<88.0,>=87.4->pytamaro)\n",
            "  Downloading pybind11-2.11.1-py3-none-any.whl (227 kB)\n",
            "\u001b[2K     \u001b[90m━━━━━━━━━━━━━━━━━━━━━━━━━━━━━━━━━━━━━━\u001b[0m \u001b[32m227.7/227.7 kB\u001b[0m \u001b[31m17.0 MB/s\u001b[0m eta \u001b[36m0:00:00\u001b[0m\n",
            "\u001b[?25hInstalling collected packages: pybind11, skia-python, pytamaro\n",
            "Successfully installed pybind11-2.11.1 pytamaro-0.5.2 skia-python-87.5\n"
          ]
        }
      ],
      "source": [
        "! pip install pytamaro"
      ]
    },
    {
      "cell_type": "code",
      "source": [
        "from pytamaro.de import (rechteck,\n",
        "                          rot,\n",
        "                         zeige_grafik)"
      ],
      "metadata": {
        "id": "243bdsHtaFJe"
      },
      "execution_count": 4,
      "outputs": []
    },
    {
      "cell_type": "code",
      "source": [
        "test = rechteck(10, 10, rot)\n",
        "zeige_grafik(test)"
      ],
      "metadata": {
        "colab": {
          "base_uri": "https://localhost:8080/",
          "height": 34
        },
        "id": "MbfRlgIxaOf5",
        "outputId": "6cbbef21-b8ba-4c9f-a3c8-31b8d0f865e0"
      },
      "execution_count": 5,
      "outputs": [
        {
          "output_type": "display_data",
          "data": {
            "text/plain": [
              "<PIL.PngImagePlugin.PngImageFile image mode=RGBA size=10x10>"
            ],
            "image/png": "[encoded data removed]"
          },
          "metadata": {}
        }
      ]
    }
  ]
}